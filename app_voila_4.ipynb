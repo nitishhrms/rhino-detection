{
  "nbformat": 4,
  "nbformat_minor": 0,
  "metadata": {
    "colab": {
      "name": "Untitled36.ipynb",
      "provenance": []
    },
    "kernelspec": {
      "name": "python3",
      "display_name": "Python 3"
    },
    "language_info": {
      "name": "python"
    }
  },
  "cells": [
    {
      "cell_type": "code",
      "metadata": {
        "id": "qHZWcAxoYann"
      },
      "source": [
        "from fastai.vision.all import *\n",
        "from fastai.vision.widgets import *\n"
      ],
      "execution_count": null,
      "outputs": []
    },
    {
      "cell_type": "code",
      "metadata": {
        "id": "WNR8m5RVYlZh"
      },
      "source": [
        "#path = Path()\n",
        "learn_inf = load_learner('export.pkl')\n",
        "btn_upload=widgets.FileUpload()\n",
        "out_pl=widgets.Output()\n",
        "lbl_pred=widgets.Label()\n",
        "btn_run = widgets.Button(description='Classify')"
      ],
      "execution_count": null,
      "outputs": []
    },
    {
      "cell_type": "code",
      "metadata": {
        "id": "Uhler6e_YpCe"
      },
      "source": [
        "def on_click_classify(img):\n",
        "    img=PILImage.create(btn_upload.data[-1])\n",
        "    out_pl.clear_output()\n",
        "    with out_pl:display(img.to_thumb(128,128))\n",
        "    preds,pred_idx,probs=learn_inf.predict(img)\n",
        "    lbl_pred.value=f'preds:{preds},prob:{probs[pred_idx]}'"
      ],
      "execution_count": null,
      "outputs": []
    },
    {
      "cell_type": "code",
      "metadata": {
        "id": "kkoEWmPSYubu"
      },
      "source": [
        "\n",
        "btn_run.on_click(on_click_classify)\n"
      ],
      "execution_count": null,
      "outputs": []
    },
    {
      "cell_type": "code",
      "metadata": {
        "id": "2B8JybvOYxOz"
      },
      "source": [
        "VBox([widgets.Label('tell me the animal'),btn_upload,btn_run,out_pl,lbl_pred])\n"
      ],
      "execution_count": null,
      "outputs": []
    }
  ]
}
